{
 "cells": [
  {
   "cell_type": "code",
   "execution_count": 186,
   "metadata": {},
   "outputs": [],
   "source": [
    "import pandas as pd\n"
   ]
  },
  {
   "cell_type": "code",
   "execution_count": 187,
   "metadata": {},
   "outputs": [],
   "source": [
    "#목표:\n",
    "#병원, 약국 부족량 공식을 만들고\n",
    "#이 값이 클 수록 병원, 약국이 부족한 지역으로 본다.\n",
    "#이 값을 y로 잡고 다른 변수들을 x로 잡아서 회귀분석을 한다."
   ]
  },
  {
   "cell_type": "code",
   "execution_count": 209,
   "metadata": {},
   "outputs": [
    {
     "data": {
      "text/html": [
       "<div>\n",
       "<style scoped>\n",
       "    .dataframe tbody tr th:only-of-type {\n",
       "        vertical-align: middle;\n",
       "    }\n",
       "\n",
       "    .dataframe tbody tr th {\n",
       "        vertical-align: top;\n",
       "    }\n",
       "\n",
       "    .dataframe thead th {\n",
       "        text-align: right;\n",
       "    }\n",
       "</style>\n",
       "<table border=\"1\" class=\"dataframe\">\n",
       "  <thead>\n",
       "    <tr style=\"text-align: right;\">\n",
       "      <th></th>\n",
       "      <th>구별</th>\n",
       "      <th>동별</th>\n",
       "      <th>사업장명</th>\n",
       "      <th>소재지도로명주소</th>\n",
       "      <th>위도</th>\n",
       "      <th>경도</th>\n",
       "    </tr>\n",
       "  </thead>\n",
       "  <tbody>\n",
       "    <tr>\n",
       "      <th>0</th>\n",
       "      <td>분당구</td>\n",
       "      <td>구미동</td>\n",
       "      <td>분당필동물병원</td>\n",
       "      <td>경기도 성남시 분당구 금곡로15번길 1 (구미동)</td>\n",
       "      <td>37.343838</td>\n",
       "      <td>127.110754</td>\n",
       "    </tr>\n",
       "    <tr>\n",
       "      <th>1</th>\n",
       "      <td>분당구</td>\n",
       "      <td>구미동</td>\n",
       "      <td>현대 동물병원</td>\n",
       "      <td>경기도 성남시 분당구 성남대로 30, 111호 (구미동, 동아그린프라자)</td>\n",
       "      <td>37.338343</td>\n",
       "      <td>127.109435</td>\n",
       "    </tr>\n",
       "    <tr>\n",
       "      <th>2</th>\n",
       "      <td>분당구</td>\n",
       "      <td>구미동</td>\n",
       "      <td>24시분당리더스동물의료원</td>\n",
       "      <td>경기도 성남시 분당구 성남대로 45, 계영빌딩 202, 203호 (구미동)</td>\n",
       "      <td>37.340012</td>\n",
       "      <td>127.108392</td>\n",
       "    </tr>\n",
       "    <tr>\n",
       "      <th>3</th>\n",
       "      <td>분당구</td>\n",
       "      <td>구미동</td>\n",
       "      <td>한국동물선진의료연구소(KASMINE) 동물심혈관신장센터</td>\n",
       "      <td>경기도 성남시 분당구 미금로 43, 정운빌딩 1층 (구미동)</td>\n",
       "      <td>37.337094</td>\n",
       "      <td>127.115965</td>\n",
       "    </tr>\n",
       "  </tbody>\n",
       "</table>\n",
       "</div>"
      ],
      "text/plain": [
       "    구별   동별                            사업장명  \\\n",
       "0  분당구  구미동                         분당필동물병원   \n",
       "1  분당구  구미동                         현대 동물병원   \n",
       "2  분당구  구미동                   24시분당리더스동물의료원   \n",
       "3  분당구  구미동  한국동물선진의료연구소(KASMINE) 동물심혈관신장센터   \n",
       "\n",
       "                                    소재지도로명주소         위도          경도  \n",
       "0                경기도 성남시 분당구 금곡로15번길 1 (구미동)  37.343838  127.110754  \n",
       "1   경기도 성남시 분당구 성남대로 30, 111호 (구미동, 동아그린프라자)  37.338343  127.109435  \n",
       "2  경기도 성남시 분당구 성남대로 45, 계영빌딩 202, 203호 (구미동)  37.340012  127.108392  \n",
       "3          경기도 성남시 분당구 미금로 43, 정운빌딩 1층 (구미동)  37.337094  127.115965  "
      ]
     },
     "execution_count": 209,
     "metadata": {},
     "output_type": "execute_result"
    }
   ],
   "source": [
    "# 데이터 가져오기\n",
    "hospital_df = pd.read_csv('data/hospitals.csv')\n",
    "pharmacy_df = pd.read_csv('data/pharmacies.csv')\n",
    "pet_df = pd.read_csv('data/pet_data.csv')\n",
    "hospital_df.head(4)"
   ]
  },
  {
   "cell_type": "code",
   "execution_count": 210,
   "metadata": {},
   "outputs": [],
   "source": [
    "# 병원 및 약국 개수 계산\n",
    "hospital_counts = hospital_df.groupby([\"구별\", \"동별\"]).size().reset_index(name=\"병원 개수\")\n",
    "pharmacy_counts = pharmacy_df.groupby([\"구별\", \"동별\"]).size().reset_index(name=\"약국 개수\")"
   ]
  },
  {
   "cell_type": "code",
   "execution_count": 211,
   "metadata": {},
   "outputs": [],
   "source": [
    "# 병원, 약국 개수를 반려동물 데이터와 병합\n",
    "merged_df = pet_df.merge(hospital_counts, on=[\"구별\", \"동별\"], how=\"left\") \\\n",
    "                    .merge(pharmacy_counts, on=[\"구별\", \"동별\"], how=\"left\")"
   ]
  },
  {
   "cell_type": "code",
   "execution_count": 212,
   "metadata": {},
   "outputs": [
    {
     "data": {
      "text/html": [
       "<div>\n",
       "<style scoped>\n",
       "    .dataframe tbody tr th:only-of-type {\n",
       "        vertical-align: middle;\n",
       "    }\n",
       "\n",
       "    .dataframe tbody tr th {\n",
       "        vertical-align: top;\n",
       "    }\n",
       "\n",
       "    .dataframe thead th {\n",
       "        text-align: right;\n",
       "    }\n",
       "</style>\n",
       "<table border=\"1\" class=\"dataframe\">\n",
       "  <thead>\n",
       "    <tr style=\"text-align: right;\">\n",
       "      <th></th>\n",
       "      <th>구별</th>\n",
       "      <th>동별</th>\n",
       "      <th>동물소유자수</th>\n",
       "      <th>반려동물수</th>\n",
       "      <th>병원 개수</th>\n",
       "      <th>약국 개수</th>\n",
       "    </tr>\n",
       "  </thead>\n",
       "  <tbody>\n",
       "    <tr>\n",
       "      <th>0</th>\n",
       "      <td>분당구</td>\n",
       "      <td>구미동</td>\n",
       "      <td>2523</td>\n",
       "      <td>3241</td>\n",
       "      <td>7.0</td>\n",
       "      <td>12.0</td>\n",
       "    </tr>\n",
       "    <tr>\n",
       "      <th>1</th>\n",
       "      <td>분당구</td>\n",
       "      <td>궁내동</td>\n",
       "      <td>160</td>\n",
       "      <td>217</td>\n",
       "      <td>NaN</td>\n",
       "      <td>1.0</td>\n",
       "    </tr>\n",
       "    <tr>\n",
       "      <th>2</th>\n",
       "      <td>분당구</td>\n",
       "      <td>금곡동</td>\n",
       "      <td>1629</td>\n",
       "      <td>2091</td>\n",
       "      <td>4.0</td>\n",
       "      <td>11.0</td>\n",
       "    </tr>\n",
       "    <tr>\n",
       "      <th>3</th>\n",
       "      <td>분당구</td>\n",
       "      <td>대장동</td>\n",
       "      <td>219</td>\n",
       "      <td>303</td>\n",
       "      <td>2.0</td>\n",
       "      <td>2.0</td>\n",
       "    </tr>\n",
       "  </tbody>\n",
       "</table>\n",
       "</div>"
      ],
      "text/plain": [
       "    구별   동별  동물소유자수  반려동물수  병원 개수  약국 개수\n",
       "0  분당구  구미동    2523   3241    7.0   12.0\n",
       "1  분당구  궁내동     160    217    NaN    1.0\n",
       "2  분당구  금곡동    1629   2091    4.0   11.0\n",
       "3  분당구  대장동     219    303    2.0    2.0"
      ]
     },
     "execution_count": 212,
     "metadata": {},
     "output_type": "execute_result"
    }
   ],
   "source": [
    "merged_df.head(4)"
   ]
  },
  {
   "cell_type": "code",
   "execution_count": 213,
   "metadata": {},
   "outputs": [],
   "source": [
    "#결측치를 0으로 채워넣기\n",
    "merged_df = merged_df.fillna(0)"
   ]
  },
  {
   "cell_type": "code",
   "execution_count": 215,
   "metadata": {},
   "outputs": [
    {
     "data": {
      "text/plain": [
       "구별        0\n",
       "동별        0\n",
       "동물소유자수    0\n",
       "반려동물수     0\n",
       "병원 개수     0\n",
       "약국 개수     0\n",
       "dtype: int64"
      ]
     },
     "execution_count": 215,
     "metadata": {},
     "output_type": "execute_result"
    }
   ],
   "source": [
    "merged_df.isna().sum()"
   ]
  },
  {
   "cell_type": "code",
   "execution_count": null,
   "metadata": {},
   "outputs": [],
   "source": []
  },
  {
   "cell_type": "code",
   "execution_count": 200,
   "metadata": {},
   "outputs": [],
   "source": [
    "#병원 부족량 공식: (반려동물수 + 인구밀도) / (병원 개수 + 1)\n",
    "count_df[\"병원 부족량\"] = (count_df[\"반려동물수\"] + count_df[\"동물소유자수\"]) / (count_df[\"병원 개수\"] + 1)\n",
    "count_df[\"병원 부족량\"] = count_df[\"병원 부족량\"].apply(lambda x: max(0, x - 1))  # 병원이 많을수록 부족량 감소"
   ]
  },
  {
   "cell_type": "code",
   "execution_count": 150,
   "metadata": {},
   "outputs": [
    {
     "data": {
      "text/plain": [
       "구별        0\n",
       "동별        0\n",
       "병원 개수     0\n",
       "동물소유자수    0\n",
       "반려동물수     0\n",
       "병원 부족량    0\n",
       "dtype: int64"
      ]
     },
     "execution_count": 150,
     "metadata": {},
     "output_type": "execute_result"
    }
   ],
   "source": [
    "count_df.isna().sum()"
   ]
  },
  {
   "cell_type": "code",
   "execution_count": 151,
   "metadata": {},
   "outputs": [
    {
     "name": "stdout",
     "output_type": "stream",
     "text": [
      "<class 'pandas.core.frame.DataFrame'>\n",
      "RangeIndex: 29 entries, 0 to 28\n",
      "Data columns (total 6 columns):\n",
      " #   Column  Non-Null Count  Dtype  \n",
      "---  ------  --------------  -----  \n",
      " 0   구별      29 non-null     object \n",
      " 1   동별      29 non-null     object \n",
      " 2   병원 개수   29 non-null     int64  \n",
      " 3   동물소유자수  29 non-null     int64  \n",
      " 4   반려동물수   29 non-null     int64  \n",
      " 5   병원 부족량  29 non-null     float64\n",
      "dtypes: float64(1), int64(3), object(2)\n",
      "memory usage: 1.5+ KB\n"
     ]
    }
   ],
   "source": [
    "count_df.info()"
   ]
  },
  {
   "cell_type": "code",
   "execution_count": 202,
   "metadata": {},
   "outputs": [],
   "source": [
    "# 구별, 동별 원핫 인코딩\n",
    "from sklearn.preprocessing import OneHotEncoder, StandardScaler\n",
    "\n",
    "one_hot_encoder = OneHotEncoder(handle_unknown=\"ignore\", sparse_output=False)\n",
    "encoded_features = one_hot_encoder.fit_transform(count_df[[\"구별\", \"동별\"]])"
   ]
  },
  {
   "cell_type": "code",
   "execution_count": 203,
   "metadata": {},
   "outputs": [],
   "source": [
    "encoded_df = pd.DataFrame(encoded_features, columns=one_hot_encoder.get_feature_names_out([\"구별\", \"동별\"]))\n",
    "count_df = pd.concat([count_df, encoded_df], axis=1)"
   ]
  },
  {
   "cell_type": "code",
   "execution_count": 204,
   "metadata": {},
   "outputs": [],
   "source": [
    "#구별, 동별 컬럼 삭제\n",
    "count_df.drop([\"구별\", \"동별\"], axis=1, inplace=True)"
   ]
  },
  {
   "cell_type": "code",
   "execution_count": 205,
   "metadata": {},
   "outputs": [],
   "source": [
    "from sklearn.model_selection import train_test_split\n",
    "import xgboost as xgb"
   ]
  },
  {
   "cell_type": "code",
   "execution_count": null,
   "metadata": {},
   "outputs": [],
   "source": []
  }
 ],
 "metadata": {
  "kernelspec": {
   "display_name": "hi",
   "language": "python",
   "name": "python3"
  },
  "language_info": {
   "codemirror_mode": {
    "name": "ipython",
    "version": 3
   },
   "file_extension": ".py",
   "mimetype": "text/x-python",
   "name": "python",
   "nbconvert_exporter": "python",
   "pygments_lexer": "ipython3",
   "version": "3.10.13"
  }
 },
 "nbformat": 4,
 "nbformat_minor": 2
}
